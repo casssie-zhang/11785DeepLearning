{
  "nbformat": 4,
  "nbformat_minor": 0,
  "metadata": {
    "kernelspec": {
      "display_name": "Python 3",
      "language": "python",
      "name": "python3"
    },
    "language_info": {
      "codemirror_mode": {
        "name": "ipython",
        "version": 3
      },
      "file_extension": ".py",
      "mimetype": "text/x-python",
      "name": "python",
      "nbconvert_exporter": "python",
      "pygments_lexer": "ipython3",
      "version": "3.7.6"
    },
    "colab": {
      "name": "hw3p2-model3.ipynb",
      "provenance": [],
      "collapsed_sections": [],
      "toc_visible": true,
      "machine_shape": "hm"
    },
    "accelerator": "GPU"
  },
  "cells": [
    {
      "cell_type": "markdown",
      "metadata": {
        "id": "3EI8VXCOGPTh"
      },
      "source": [
        "## Kaggle Setup"
      ]
    },
    {
      "cell_type": "code",
      "metadata": {
        "id": "UUVQPNBLQ83X",
        "colab": {
          "base_uri": "https://localhost:8080/"
        },
        "outputId": "6ffbc969-920c-46f6-cc9c-decfa90700e3"
      },
      "source": [
        "!nvidia-smi\n",
        "!pip install --upgrade kaggle"
      ],
      "execution_count": null,
      "outputs": [
        {
          "output_type": "stream",
          "text": [
            "Fri Nov 13 09:24:36 2020       \n",
            "+-----------------------------------------------------------------------------+\n",
            "| NVIDIA-SMI 455.32.00    Driver Version: 418.67       CUDA Version: 10.1     |\n",
            "|-------------------------------+----------------------+----------------------+\n",
            "| GPU  Name        Persistence-M| Bus-Id        Disp.A | Volatile Uncorr. ECC |\n",
            "| Fan  Temp  Perf  Pwr:Usage/Cap|         Memory-Usage | GPU-Util  Compute M. |\n",
            "|                               |                      |               MIG M. |\n",
            "|===============================+======================+======================|\n",
            "|   0  Tesla P100-PCIE...  Off  | 00000000:00:04.0 Off |                    0 |\n",
            "| N/A   42C    P0    29W / 250W |      0MiB / 16280MiB |      0%      Default |\n",
            "|                               |                      |                 ERR! |\n",
            "+-------------------------------+----------------------+----------------------+\n",
            "                                                                               \n",
            "+-----------------------------------------------------------------------------+\n",
            "| Processes:                                                                  |\n",
            "|  GPU   GI   CI        PID   Type   Process name                  GPU Memory |\n",
            "|        ID   ID                                                   Usage      |\n",
            "|=============================================================================|\n",
            "|  No running processes found                                                 |\n",
            "+-----------------------------------------------------------------------------+\n",
            "Requirement already up-to-date: kaggle in /usr/local/lib/python3.6/dist-packages (1.5.9)\n",
            "Requirement already satisfied, skipping upgrade: tqdm in /usr/local/lib/python3.6/dist-packages (from kaggle) (4.41.1)\n",
            "Requirement already satisfied, skipping upgrade: python-slugify in /usr/local/lib/python3.6/dist-packages (from kaggle) (4.0.1)\n",
            "Requirement already satisfied, skipping upgrade: requests in /usr/local/lib/python3.6/dist-packages (from kaggle) (2.23.0)\n",
            "Requirement already satisfied, skipping upgrade: python-dateutil in /usr/local/lib/python3.6/dist-packages (from kaggle) (2.8.1)\n",
            "Requirement already satisfied, skipping upgrade: slugify in /usr/local/lib/python3.6/dist-packages (from kaggle) (0.0.1)\n",
            "Requirement already satisfied, skipping upgrade: certifi in /usr/local/lib/python3.6/dist-packages (from kaggle) (2020.6.20)\n",
            "Requirement already satisfied, skipping upgrade: urllib3 in /usr/local/lib/python3.6/dist-packages (from kaggle) (1.24.3)\n",
            "Requirement already satisfied, skipping upgrade: six>=1.10 in /usr/local/lib/python3.6/dist-packages (from kaggle) (1.15.0)\n",
            "Requirement already satisfied, skipping upgrade: text-unidecode>=1.3 in /usr/local/lib/python3.6/dist-packages (from python-slugify->kaggle) (1.3)\n",
            "Requirement already satisfied, skipping upgrade: idna<3,>=2.5 in /usr/local/lib/python3.6/dist-packages (from requests->kaggle) (2.10)\n",
            "Requirement already satisfied, skipping upgrade: chardet<4,>=3.0.2 in /usr/local/lib/python3.6/dist-packages (from requests->kaggle) (3.0.4)\n"
          ],
          "name": "stdout"
        }
      ]
    },
    {
      "cell_type": "code",
      "metadata": {
        "id": "AmgxZCOcXvgA",
        "colab": {
          "base_uri": "https://localhost:8080/"
        },
        "outputId": "4ef8e3dd-040c-4949-b95f-600d4a7d9d9d"
      },
      "source": [
        "mkdir .kaggle"
      ],
      "execution_count": null,
      "outputs": [
        {
          "output_type": "stream",
          "text": [
            "mkdir: cannot create directory ‘.kaggle’: File exists\n"
          ],
          "name": "stdout"
        }
      ]
    },
    {
      "cell_type": "code",
      "metadata": {
        "id": "PAUh2O2BXxpe"
      },
      "source": [
        "import json\n",
        "token = {\"username\":\"kexinzhangcmu\",\"key\":\"91f327ebd62f2d3cfeb09f0344748606\"}\n",
        "\n",
        "with open('/content/.kaggle/kaggle.json', 'w') as file:\n",
        "      json.dump(token, file)"
      ],
      "execution_count": null,
      "outputs": []
    },
    {
      "cell_type": "code",
      "metadata": {
        "id": "_e5pVYE2Xz2A",
        "colab": {
          "base_uri": "https://localhost:8080/"
        },
        "outputId": "27d80f51-5e52-4c3d-e819-46e45ac52884"
      },
      "source": [
        "!chmod 600 /content/.kaggle/kaggle.json\n",
        "!mkdir ~/.kaggle\n",
        "!cp /content/.kaggle/kaggle.json ~/.kaggle/kaggle.json\n",
        "!kaggle config set -n path -v /content/\n",
        "!kaggle competitions download -c 11-785-fall-20-homework-3\n",
        "%cd competitions/11-785-fall-20-homework-3\n",
        "!unzip \\*.zip\n",
        "!rm -rf *.zip"
      ],
      "execution_count": null,
      "outputs": [
        {
          "output_type": "stream",
          "text": [
            "mkdir: cannot create directory ‘/root/.kaggle’: File exists\n",
            "- path is now set to: /content/\n",
            "Warning: Looks like you're using an outdated API Version, please consider updating (server 1.5.9 / client 1.5.4)\n",
            "phoneme_list.py: Skipping, found more recently modified local copy (use --force to force download)\n",
            "Downloading test.npy.zip to /content/competitions/11-785-fall-20-homework-3\n",
            " 74% 73.0M/98.1M [00:00<00:00, 92.3MB/s]\n",
            "100% 98.1M/98.1M [00:00<00:00, 119MB/s] \n",
            "Downloading train_labels.npy.zip to /content/competitions/11-785-fall-20-homework-3\n",
            "  0% 0.00/3.21M [00:00<?, ?B/s]\n",
            "100% 3.21M/3.21M [00:00<00:00, 214MB/s]\n",
            "Downloading dev.npy.zip to /content/competitions/11-785-fall-20-homework-3\n",
            " 98% 97.0M/98.6M [00:00<00:00, 68.0MB/s]\n",
            "100% 98.6M/98.6M [00:00<00:00, 127MB/s] \n",
            "Downloading train.npy.zip to /content/competitions/11-785-fall-20-homework-3\n",
            " 96% 1.51G/1.57G [00:12<00:00, 133MB/s]User cancelled operation\n",
            "/content/competitions/11-785-fall-20-homework-3\n",
            "Archive:  train.npy.zip\n",
            "  End-of-central-directory signature not found.  Either this file is not\n",
            "  a zipfile, or it constitutes one disk of a multi-part archive.  In the\n",
            "  latter case the central directory and zipfile comment will be found on\n",
            "  the last disk(s) of this archive.\n",
            "Archive:  dev.npy.zip\n",
            "replace dev.npy? [y]es, [n]o, [A]ll, [N]one, [r]ename: y\n",
            "  inflating: dev.npy                 y\n",
            "\n",
            "\n",
            "Archive:  train_labels.npy.zip\n",
            "replace train_labels.npy? [y]es, [n]o, [A]ll, [N]one, [r]ename:   inflating: train_labels.npy        \n",
            "\n",
            "Archive:  test.npy.zip\n",
            "replace test.npy? [y]es, [n]o, [A]ll, [N]one, [r]ename: "
          ],
          "name": "stdout"
        }
      ]
    },
    {
      "cell_type": "markdown",
      "metadata": {
        "id": "p3qRnpBakpJg"
      },
      "source": [
        "## Install CTC Decode"
      ]
    },
    {
      "cell_type": "code",
      "metadata": {
        "id": "d5--PkcHktR4",
        "colab": {
          "base_uri": "https://localhost:8080/"
        },
        "outputId": "33a11c87-45c5-4d11-ff49-d61e158acd92"
      },
      "source": [
        "%cd /content\n",
        "!git clone --recursive https://github.com/parlance/ctcdecode.git\n",
        "!pip install wget\n",
        "%cd ctcdecode\n",
        "!pip install .\n",
        "%cd .."
      ],
      "execution_count": null,
      "outputs": [
        {
          "output_type": "stream",
          "text": [
            "/content\n",
            "fatal: destination path 'ctcdecode' already exists and is not an empty directory.\n",
            "Requirement already satisfied: wget in /usr/local/lib/python3.6/dist-packages (3.2)\n",
            "/content/ctcdecode\n",
            "Processing /content/ctcdecode\n"
          ],
          "name": "stdout"
        }
      ]
    },
    {
      "cell_type": "markdown",
      "metadata": {
        "id": "dzkZXhK_km3u"
      },
      "source": [
        "## Mount GDrive"
      ]
    },
    {
      "cell_type": "code",
      "metadata": {
        "id": "AwP6JutFtSJa"
      },
      "source": [
        "from google.colab import drive\n",
        "drive.mount('/content/gdrive')"
      ],
      "execution_count": null,
      "outputs": []
    },
    {
      "cell_type": "code",
      "metadata": {
        "id": "v0kFR32nlzrh"
      },
      "source": [
        "ls"
      ],
      "execution_count": null,
      "outputs": []
    },
    {
      "cell_type": "markdown",
      "metadata": {
        "id": "qjEJ_l5mtNkt"
      },
      "source": [
        "## Imports"
      ]
    },
    {
      "cell_type": "code",
      "metadata": {
        "id": "nmTdtXGHnumv"
      },
      "source": [
        "!cp /content/competitions/11-785-fall-20-homework-3/phoneme_list.py /content/"
      ],
      "execution_count": null,
      "outputs": []
    },
    {
      "cell_type": "code",
      "metadata": {
        "id": "WIwcsAThoswl"
      },
      "source": [
        "import sys\n",
        "sys.path.append(\"/content/competitions/11-785-fall-20-homework-3/\")\n",
        "\n",
        "import torch\n",
        "from torch import nn\n",
        "from torch.nn.utils.rnn import *\n",
        "from phoneme_list import N_PHONEMES, PHONEME_LIST, PHONEME_MAP\n",
        "from torch.optim.lr_scheduler import StepLR, MultiplicativeLR, CosineAnnealingLR\n",
        "\n",
        "from torch.utils.data import Dataset\n",
        "from torch.utils.data import DataLoader\n",
        "import time\n",
        "\n",
        "torch.__version__\n",
        "\n",
        "from tqdm import tqdm"
      ],
      "execution_count": null,
      "outputs": []
    },
    {
      "cell_type": "code",
      "metadata": {
        "id": "yS0515LUFyDw"
      },
      "source": [
        "cuda = torch.cuda.is_available()\n",
        "device = torch.device(\"cuda:0\" if torch.cuda.is_available() else \"cpu\")"
      ],
      "execution_count": null,
      "outputs": []
    },
    {
      "cell_type": "markdown",
      "metadata": {
        "id": "eAuf_mFzSveL"
      },
      "source": [
        "## Load Data"
      ]
    },
    {
      "cell_type": "code",
      "metadata": {
        "id": "8B52MCml9Caz",
        "colab": {
          "base_uri": "https://localhost:8080/"
        },
        "outputId": "0b43886a-9d4a-4d62-a28f-58d8fd7412bf"
      },
      "source": [
        "import numpy as np\n",
        "import torch\n",
        "\n",
        "DATA_PATH = \"/content/competitions/11-785-fall-20-homework-3/\"\n",
        "\n",
        "def load_data(data_path=DATA_PATH):\n",
        "    \"\"\"load data\"\"\"\n",
        "    train = np.load(data_path + \"train.npy\",allow_pickle=True)\n",
        "    train_labels = np.load(data_path + \"train_labels.npy\",allow_pickle=True)\n",
        "    dev = np.load(data_path + 'dev.npy', allow_pickle=True)\n",
        "    dev_labels = np.load(data_path + 'dev_labels.npy', allow_pickle=True)\n",
        "    \n",
        "    return train, train_labels, dev, dev_labels \n",
        "\n",
        "\n",
        "train, train_labels, dev, dev_labels = load_data(DATA_PATH)\n",
        "print(\"training samples:\", train.shape[0], \"dev samples:\", dev.shape[0])"
      ],
      "execution_count": null,
      "outputs": [
        {
          "output_type": "stream",
          "text": [
            "training samples: 22002 dev samples: 2332\n"
          ],
          "name": "stdout"
        }
      ]
    },
    {
      "cell_type": "code",
      "metadata": {
        "id": "Ch91D2HTE2EY",
        "colab": {
          "base_uri": "https://localhost:8080/"
        },
        "outputId": "17469f02-0ef5-4176-fa7a-b5a6ff09b736"
      },
      "source": [
        "def load_test_data(data_path=DATA_PATH):\n",
        "    \"\"\"load data\"\"\"\n",
        "    test = np.load(data_path + \"test.npy\",allow_pickle=True)\n",
        "    \n",
        "    return test\n",
        "test = load_test_data()\n",
        "print(\"test samples:\", test.shape)"
      ],
      "execution_count": null,
      "outputs": [
        {
          "output_type": "stream",
          "text": [
            "test samples: (2251,)\n"
          ],
          "name": "stdout"
        }
      ]
    },
    {
      "cell_type": "code",
      "metadata": {
        "id": "VdwbkznoHxpS"
      },
      "source": [
        "train_batch_size = 64\n",
        "dev_batch_size = 64"
      ],
      "execution_count": null,
      "outputs": []
    },
    {
      "cell_type": "code",
      "metadata": {
        "id": "wKEsoubzyR13",
        "colab": {
          "base_uri": "https://localhost:8080/"
        },
        "outputId": "6ca8484f-7e15-4cdf-86f9-45c67a6940ce"
      },
      "source": [
        "class hw3Dataset(Dataset):\n",
        "    def __init__(self, X, Y):\n",
        "        assert(len(X) == len(Y))\n",
        "        self.X_lens = torch.LongTensor([len(x) for x in X])\n",
        "        train_tensors = [torch.FloatTensor(x).float() for x in X]\n",
        "        self.X = pad_sequence(train_tensors, batch_first=True)\n",
        "\n",
        "        self.Y_lens = torch.LongTensor([len(y) for y in Y])\n",
        "        labels_tensors = [torch.LongTensor(y + 1) for y in Y] # add 1\n",
        "        self.Y = pad_sequence(labels_tensors, batch_first=True)\n",
        "\n",
        "        print(\"# of examples:\", self.X.shape, \"//\", self.Y.shape)\n",
        "        print(\"max:\", self.Y.max(), \"min:\", self.Y.min())\n",
        "    \n",
        "    def __len__(self):\n",
        "        return len(self.Y)\n",
        "    \n",
        "    def __getitem__(self, index):\n",
        "        X = self.X[index]\n",
        "        Y = self.Y[index]\n",
        "        X_lens = self.X_lens[index]\n",
        "        Y_lens = self.Y_lens[index]                \n",
        "        return X, X_lens, Y, Y_lens\n",
        "    \n",
        "\n",
        "num_workers = 4\n",
        "\n",
        "train_dataset = hw3Dataset(train, train_labels)\n",
        "train_loader_args = dict(shuffle = True, batch_size = train_batch_size,\n",
        "                        num_workers = num_workers, pin_memory = True, drop_last = False)\n",
        "train_loader = DataLoader(train_dataset, **train_loader_args)"
      ],
      "execution_count": null,
      "outputs": [
        {
          "output_type": "stream",
          "text": [
            "# of examples: torch.Size([22002, 2450, 13]) // torch.Size([22002, 274])\n",
            "max: tensor(41) min: tensor(0)\n"
          ],
          "name": "stdout"
        }
      ]
    },
    {
      "cell_type": "code",
      "metadata": {
        "id": "rIrk6Gj4SiuD",
        "colab": {
          "base_uri": "https://localhost:8080/"
        },
        "outputId": "e7c04890-7a8a-49d1-f44a-3bf0fe9950f2"
      },
      "source": [
        "dev_dataset = hw3Dataset(dev, dev_labels)\n",
        "dev_loader_args = dict(shuffle = False, batch_size = dev_batch_size,\n",
        "                        num_workers = num_workers, pin_memory = True, drop_last = False)\n",
        "dev_loader = DataLoader(dev_dataset, **dev_loader_args)\n",
        "\n",
        "# generating true labels\n",
        "Y_true_list = []\n",
        "Y_lens_true_list = []\n",
        "\n",
        "for idx, (X, X_lens, Y, Y_lens) in tqdm(enumerate(dev_loader)):\n",
        "    X, X_lens, Y, Y_lens = X.to(device), X_lens.to(device), Y.to(device), Y_lens.to(device)\n",
        "    Y_true_list.extend(Y.cpu().numpy())\n",
        "    Y_lens_true_list.extend(Y_lens.cpu().numpy())\n",
        "\n",
        "true_string_list = []\n",
        "for y_true, lens_true in tqdm(zip(Y_true_list, Y_lens_true_list)):\n",
        "    true_seq = y_true[:lens_true]\n",
        "    true_string = ''.join(PHONEME_MAP[i] for i in true_seq)\n",
        "    true_string_list.append(true_string)"
      ],
      "execution_count": null,
      "outputs": [
        {
          "output_type": "stream",
          "text": [
            "# of examples: torch.Size([2332, 3246, 13]) // torch.Size([2332, 364])\n",
            "max: tensor(41) min: tensor(0)\n"
          ],
          "name": "stdout"
        },
        {
          "output_type": "stream",
          "text": [
            "37it [00:05,  7.35it/s]\n",
            "2332it [00:00, 64426.17it/s]\n"
          ],
          "name": "stderr"
        }
      ]
    },
    {
      "cell_type": "code",
      "metadata": {
        "id": "aKU9b2Xprnys"
      },
      "source": [
        "class Model(nn.Module):\n",
        "    def __init__(self, hidden_size, embed_size = 13, out_vocab = 42):\n",
        "        super(Model, self).__init__()\n",
        "        self.lstm = nn.LSTM(input_size=embed_size, hidden_size=hidden_size, \n",
        "                            bidirectional=True, num_layers=5)\n",
        "        self.output = nn.Sequential(\n",
        "            nn.Linear(hidden_size * 2, hidden_size * 2),\n",
        "            # nn.ReLU()\n",
        "            nn.LeakyReLU(),\n",
        "            nn.Dropout(0.1),\n",
        "            # nn.BatchNorm1d(hidden_size),\n",
        "            nn.Linear(hidden_size * 2, out_vocab))\n",
        "\n",
        "    \n",
        "    def forward(self, X, lengths):\n",
        "        packed_X = pack_padded_sequence(X, lengths, enforce_sorted=False, batch_first = True)\n",
        "        packed_out = self.lstm(packed_X)[0]\n",
        "        out, out_lens = pad_packed_sequence(packed_out)\n",
        "        # Log softmax after output layer is required since`nn.CTCLoss` expects log probabilities.\n",
        "        out = self.output(out).log_softmax(2)\n",
        "        return out, out_lens\n"
      ],
      "execution_count": null,
      "outputs": []
    },
    {
      "cell_type": "code",
      "metadata": {
        "id": "UAJxFNvCJZDA"
      },
      "source": [
        "# load model\n",
        "model = Model(512)\n",
        "model.train()\n",
        "model.to(device)\n",
        "\n",
        "criterion = nn.CTCLoss()"
      ],
      "execution_count": null,
      "outputs": []
    },
    {
      "cell_type": "code",
      "metadata": {
        "id": "9dMK4IUOKVgM"
      },
      "source": [
        "# min_val_loss = float(model_file[-4:])\n",
        "save_path = \"/content/gdrive/My Drive/11685deeplearning/hw3p2/\"\n",
        "model_name = \"wider_2_baseline\""
      ],
      "execution_count": null,
      "outputs": []
    },
    {
      "cell_type": "code",
      "metadata": {
        "id": "xYVIPdwyLHoS"
      },
      "source": [
        "def validate(model, data_loader, criterion, device, min_val_loss):\n",
        "    model.eval()\n",
        "    val_loss = []\n",
        "    with torch.no_grad():\n",
        "        for idx, (X, X_lens, Y, Y_lens) in enumerate(data_loader):\n",
        "\n",
        "            X, X_lens, Y, Y_lens = X.to(device), X_lens.to(device), Y.to(device), Y_lens.to(device)\n",
        "\n",
        "            optimizer.zero_grad()\n",
        "            out, out_lens = model(X, X_lens.cpu())\n",
        "            loss = criterion(out, Y, out_lens, Y_lens)\n",
        "            val_loss.append(loss.item())\n",
        "\n",
        "            del X, X_lens, Y, Y_lens\n",
        "\n",
        "    model.train()\n",
        "    mean_val_loss = np.mean(val_loss)\n",
        "\n",
        "    if mean_val_loss < min_val_loss:\n",
        "        print(\"save model!\")\n",
        "        torch.save({\n",
        "            'model_state_dict': model.state_dict(),\n",
        "            'optimizer_state_dict': optimizer.state_dict()}, \n",
        "        save_path + model_name + \"_\" + str(epoch) + \"_\" + \"{:.2f}\".format(mean_val_loss))\n",
        "\n",
        "        min_val_loss = val_loss\n",
        "    return mean_val_loss"
      ],
      "execution_count": null,
      "outputs": []
    },
    {
      "cell_type": "markdown",
      "metadata": {
        "id": "m5TECcGw7EPY"
      },
      "source": [
        "#### Multiplicative LR"
      ]
    },
    {
      "cell_type": "code",
      "metadata": {
        "id": "erbStXQH5KCq"
      },
      "source": [
        "weightDecay = 1e-5\n",
        "optimizer = torch.optim.Adam(model.parameters(), lr=1e-3, weight_decay = weightDecay)\n",
        "# MultiplicativeLR\n",
        "lmbda = lambda epoch: 0.85\n",
        "scheduler = MultiplicativeLR(optimizer, lr_lambda=lmbda)"
      ],
      "execution_count": null,
      "outputs": []
    },
    {
      "cell_type": "code",
      "metadata": {
        "id": "qjrBakYWIuo9"
      },
      "source": [
        "start = time.time()\n",
        "numEpochs = 10 # TODO: change num of epochs\n",
        "\n",
        "for epoch in range(numEpochs):\n",
        "    for idx, (X, X_lens, Y, Y_lens) in enumerate(train_loader):\n",
        "        model.train()\n",
        "        X, X_lens, Y, Y_lens = X.to(device), X_lens.to(device), Y.to(device), Y_lens.to(device)\n",
        "\n",
        "        optimizer.zero_grad()\n",
        "        out, out_lens = model(X, X_lens.cpu())\n",
        "        loss = criterion(out, Y, out_lens, Y_lens)\n",
        "\n",
        "        del X, X_lens, Y, Y_lens\n",
        "        del out, out_lens\n",
        "        torch.cuda.empty_cache()\n",
        "\n",
        "        loss.backward()\n",
        "        optimizer.step()\n",
        "\n",
        "        if idx % 10 == 9:\n",
        "            print('Epoch: {}/Batch: {}\\t Train Loss: {:.4f}\\ttime: {}sec'.format(epoch + 1, idx + 1,\n",
        "                                                                            loss.item(),\n",
        "                                                                            int(time.time() - start)))\n",
        "            start = time.time()\n",
        "            # print(\"Learning rate: \", scheduler.get_last_lr()[0])\n",
        "\n",
        "        torch.cuda.empty_cache()\n",
        "        # scheduler.step() # TODO: uncomment if scheduler = cosineAnnealing\n",
        "        \n",
        "    val_loss = validate(model, dev_loader, criterion, device, min_val_loss)\n",
        "    print('Epoch: {}\\tTrain Loss: {:.4f}\\tVal Loss: {:.4f}'.format(epoch + 1,loss.item(), val_loss))\n",
        "\n",
        "    scheduler.step()\n",
        "    print(\"Learning rate: \", scheduler.get_last_lr()[0])"
      ],
      "execution_count": null,
      "outputs": []
    },
    {
      "cell_type": "code",
      "metadata": {
        "id": "6YdPKVoo7g8j"
      },
      "source": [
        "weightDecay = 1e-5\n",
        "optimizer = torch.optim.Adam(model.parameters(), lr=1e-4, weight_decay = weightDecay)\n",
        "# MultiplicativeLR\n",
        "lmbda = lambda epoch: 0.85\n",
        "scheduler = MultiplicativeLR(optimizer, lr_lambda=lmbda)"
      ],
      "execution_count": null,
      "outputs": []
    },
    {
      "cell_type": "code",
      "metadata": {
        "id": "eMOmGGcU47Kw",
        "colab": {
          "base_uri": "https://localhost:8080/",
          "height": 392
        },
        "outputId": "4fa15666-953a-4918-dcef-bb05618510ab"
      },
      "source": [
        "start = time.time()\n",
        "numEpochs = 10 # TODO: change num of epochs\n",
        "\n",
        "for epoch in range(numEpochs):\n",
        "    for idx, (X, X_lens, Y, Y_lens) in enumerate(train_loader):\n",
        "        model.train()\n",
        "        X, X_lens, Y, Y_lens = X.to(device), X_lens.to(device), Y.to(device), Y_lens.to(device)\n",
        "\n",
        "        optimizer.zero_grad()\n",
        "        out, out_lens = model(X, X_lens.cpu())\n",
        "        loss = criterion(out, Y, out_lens, Y_lens)\n",
        "\n",
        "        del X, X_lens, Y, Y_lens\n",
        "        del out, out_lens\n",
        "        torch.cuda.empty_cache()\n",
        "\n",
        "        loss.backward()\n",
        "        optimizer.step()\n",
        "\n",
        "        if idx % 10 == 9:\n",
        "            print('Epoch: {}/Batch: {}\\t Train Loss: {:.4f}\\ttime: {}sec'.format(epoch + 1, idx + 1,\n",
        "                                                                            loss.item(),\n",
        "                                                                            int(time.time() - start)))\n",
        "            start = time.time()\n",
        "            # print(\"Learning rate: \", scheduler.get_last_lr()[0])\n",
        "\n",
        "        torch.cuda.empty_cache()\n",
        "        # scheduler.step() # TODO: uncomment if scheduler = cosineAnnealing\n",
        "        \n",
        "    val_loss = validate(model, dev_loader, criterion, device, min_val_loss)\n",
        "    print('Epoch: {}\\tTrain Loss: {:.4f}\\tVal Loss: {:.4f}'.format(epoch + 1,loss.item(), val_loss))\n",
        "    # print_abit(out, out_lens)\n",
        "\n",
        "    scheduler.step()\n",
        "    print(\"Learning rate: \", scheduler.get_last_lr()[0])"
      ],
      "execution_count": null,
      "outputs": [
        {
          "output_type": "stream",
          "text": [
            "Epoch: 1/Batch: 10\t Train Loss: 3.4257\ttime: 34sec\n"
          ],
          "name": "stdout"
        },
        {
          "output_type": "error",
          "ename": "KeyboardInterrupt",
          "evalue": "ignored",
          "traceback": [
            "\u001b[0;31m---------------------------------------------------------------------------\u001b[0m",
            "\u001b[0;31mKeyboardInterrupt\u001b[0m                         Traceback (most recent call last)",
            "\u001b[0;32m<ipython-input-24-8068cbec337e>\u001b[0m in \u001b[0;36m<module>\u001b[0;34m()\u001b[0m\n\u001b[1;32m      8\u001b[0m \u001b[0;34m\u001b[0m\u001b[0m\n\u001b[1;32m      9\u001b[0m         \u001b[0moptimizer\u001b[0m\u001b[0;34m.\u001b[0m\u001b[0mzero_grad\u001b[0m\u001b[0;34m(\u001b[0m\u001b[0;34m)\u001b[0m\u001b[0;34m\u001b[0m\u001b[0;34m\u001b[0m\u001b[0m\n\u001b[0;32m---> 10\u001b[0;31m         \u001b[0mout\u001b[0m\u001b[0;34m,\u001b[0m \u001b[0mout_lens\u001b[0m \u001b[0;34m=\u001b[0m \u001b[0mmodel\u001b[0m\u001b[0;34m(\u001b[0m\u001b[0mX\u001b[0m\u001b[0;34m,\u001b[0m \u001b[0mX_lens\u001b[0m\u001b[0;34m.\u001b[0m\u001b[0mcpu\u001b[0m\u001b[0;34m(\u001b[0m\u001b[0;34m)\u001b[0m\u001b[0;34m)\u001b[0m\u001b[0;34m\u001b[0m\u001b[0;34m\u001b[0m\u001b[0m\n\u001b[0m\u001b[1;32m     11\u001b[0m         \u001b[0mloss\u001b[0m \u001b[0;34m=\u001b[0m \u001b[0mcriterion\u001b[0m\u001b[0;34m(\u001b[0m\u001b[0mout\u001b[0m\u001b[0;34m,\u001b[0m \u001b[0mY\u001b[0m\u001b[0;34m,\u001b[0m \u001b[0mout_lens\u001b[0m\u001b[0;34m,\u001b[0m \u001b[0mY_lens\u001b[0m\u001b[0;34m)\u001b[0m\u001b[0;34m\u001b[0m\u001b[0;34m\u001b[0m\u001b[0m\n\u001b[1;32m     12\u001b[0m \u001b[0;34m\u001b[0m\u001b[0m\n",
            "\u001b[0;32m/usr/local/lib/python3.6/dist-packages/torch/nn/modules/module.py\u001b[0m in \u001b[0;36m_call_impl\u001b[0;34m(self, *input, **kwargs)\u001b[0m\n\u001b[1;32m    725\u001b[0m             \u001b[0mresult\u001b[0m \u001b[0;34m=\u001b[0m \u001b[0mself\u001b[0m\u001b[0;34m.\u001b[0m\u001b[0m_slow_forward\u001b[0m\u001b[0;34m(\u001b[0m\u001b[0;34m*\u001b[0m\u001b[0minput\u001b[0m\u001b[0;34m,\u001b[0m \u001b[0;34m**\u001b[0m\u001b[0mkwargs\u001b[0m\u001b[0;34m)\u001b[0m\u001b[0;34m\u001b[0m\u001b[0;34m\u001b[0m\u001b[0m\n\u001b[1;32m    726\u001b[0m         \u001b[0;32melse\u001b[0m\u001b[0;34m:\u001b[0m\u001b[0;34m\u001b[0m\u001b[0;34m\u001b[0m\u001b[0m\n\u001b[0;32m--> 727\u001b[0;31m             \u001b[0mresult\u001b[0m \u001b[0;34m=\u001b[0m \u001b[0mself\u001b[0m\u001b[0;34m.\u001b[0m\u001b[0mforward\u001b[0m\u001b[0;34m(\u001b[0m\u001b[0;34m*\u001b[0m\u001b[0minput\u001b[0m\u001b[0;34m,\u001b[0m \u001b[0;34m**\u001b[0m\u001b[0mkwargs\u001b[0m\u001b[0;34m)\u001b[0m\u001b[0;34m\u001b[0m\u001b[0;34m\u001b[0m\u001b[0m\n\u001b[0m\u001b[1;32m    728\u001b[0m         for hook in itertools.chain(\n\u001b[1;32m    729\u001b[0m                 \u001b[0m_global_forward_hooks\u001b[0m\u001b[0;34m.\u001b[0m\u001b[0mvalues\u001b[0m\u001b[0;34m(\u001b[0m\u001b[0;34m)\u001b[0m\u001b[0;34m,\u001b[0m\u001b[0;34m\u001b[0m\u001b[0;34m\u001b[0m\u001b[0m\n",
            "\u001b[0;32m<ipython-input-8-6c068edc15e6>\u001b[0m in \u001b[0;36mforward\u001b[0;34m(self, X, lengths)\u001b[0m\n\u001b[1;32m     15\u001b[0m     \u001b[0;32mdef\u001b[0m \u001b[0mforward\u001b[0m\u001b[0;34m(\u001b[0m\u001b[0mself\u001b[0m\u001b[0;34m,\u001b[0m \u001b[0mX\u001b[0m\u001b[0;34m,\u001b[0m \u001b[0mlengths\u001b[0m\u001b[0;34m)\u001b[0m\u001b[0;34m:\u001b[0m\u001b[0;34m\u001b[0m\u001b[0;34m\u001b[0m\u001b[0m\n\u001b[1;32m     16\u001b[0m         \u001b[0mpacked_X\u001b[0m \u001b[0;34m=\u001b[0m \u001b[0mpack_padded_sequence\u001b[0m\u001b[0;34m(\u001b[0m\u001b[0mX\u001b[0m\u001b[0;34m,\u001b[0m \u001b[0mlengths\u001b[0m\u001b[0;34m,\u001b[0m \u001b[0menforce_sorted\u001b[0m\u001b[0;34m=\u001b[0m\u001b[0;32mFalse\u001b[0m\u001b[0;34m,\u001b[0m \u001b[0mbatch_first\u001b[0m \u001b[0;34m=\u001b[0m \u001b[0;32mTrue\u001b[0m\u001b[0;34m)\u001b[0m\u001b[0;34m\u001b[0m\u001b[0;34m\u001b[0m\u001b[0m\n\u001b[0;32m---> 17\u001b[0;31m         \u001b[0mpacked_out\u001b[0m \u001b[0;34m=\u001b[0m \u001b[0mself\u001b[0m\u001b[0;34m.\u001b[0m\u001b[0mlstm\u001b[0m\u001b[0;34m(\u001b[0m\u001b[0mpacked_X\u001b[0m\u001b[0;34m)\u001b[0m\u001b[0;34m[\u001b[0m\u001b[0;36m0\u001b[0m\u001b[0;34m]\u001b[0m\u001b[0;34m\u001b[0m\u001b[0;34m\u001b[0m\u001b[0m\n\u001b[0m\u001b[1;32m     18\u001b[0m         \u001b[0mout\u001b[0m\u001b[0;34m,\u001b[0m \u001b[0mout_lens\u001b[0m \u001b[0;34m=\u001b[0m \u001b[0mpad_packed_sequence\u001b[0m\u001b[0;34m(\u001b[0m\u001b[0mpacked_out\u001b[0m\u001b[0;34m)\u001b[0m\u001b[0;34m\u001b[0m\u001b[0;34m\u001b[0m\u001b[0m\n\u001b[1;32m     19\u001b[0m         \u001b[0;31m# Log softmax after output layer is required since`nn.CTCLoss` expects log probabilities.\u001b[0m\u001b[0;34m\u001b[0m\u001b[0;34m\u001b[0m\u001b[0;34m\u001b[0m\u001b[0m\n",
            "\u001b[0;32m/usr/local/lib/python3.6/dist-packages/torch/nn/modules/module.py\u001b[0m in \u001b[0;36m_call_impl\u001b[0;34m(self, *input, **kwargs)\u001b[0m\n\u001b[1;32m    725\u001b[0m             \u001b[0mresult\u001b[0m \u001b[0;34m=\u001b[0m \u001b[0mself\u001b[0m\u001b[0;34m.\u001b[0m\u001b[0m_slow_forward\u001b[0m\u001b[0;34m(\u001b[0m\u001b[0;34m*\u001b[0m\u001b[0minput\u001b[0m\u001b[0;34m,\u001b[0m \u001b[0;34m**\u001b[0m\u001b[0mkwargs\u001b[0m\u001b[0;34m)\u001b[0m\u001b[0;34m\u001b[0m\u001b[0;34m\u001b[0m\u001b[0m\n\u001b[1;32m    726\u001b[0m         \u001b[0;32melse\u001b[0m\u001b[0;34m:\u001b[0m\u001b[0;34m\u001b[0m\u001b[0;34m\u001b[0m\u001b[0m\n\u001b[0;32m--> 727\u001b[0;31m             \u001b[0mresult\u001b[0m \u001b[0;34m=\u001b[0m \u001b[0mself\u001b[0m\u001b[0;34m.\u001b[0m\u001b[0mforward\u001b[0m\u001b[0;34m(\u001b[0m\u001b[0;34m*\u001b[0m\u001b[0minput\u001b[0m\u001b[0;34m,\u001b[0m \u001b[0;34m**\u001b[0m\u001b[0mkwargs\u001b[0m\u001b[0;34m)\u001b[0m\u001b[0;34m\u001b[0m\u001b[0;34m\u001b[0m\u001b[0m\n\u001b[0m\u001b[1;32m    728\u001b[0m         for hook in itertools.chain(\n\u001b[1;32m    729\u001b[0m                 \u001b[0m_global_forward_hooks\u001b[0m\u001b[0;34m.\u001b[0m\u001b[0mvalues\u001b[0m\u001b[0;34m(\u001b[0m\u001b[0;34m)\u001b[0m\u001b[0;34m,\u001b[0m\u001b[0;34m\u001b[0m\u001b[0;34m\u001b[0m\u001b[0m\n",
            "\u001b[0;32m/usr/local/lib/python3.6/dist-packages/torch/nn/modules/rnn.py\u001b[0m in \u001b[0;36mforward\u001b[0;34m(self, input, hx)\u001b[0m\n\u001b[1;32m    583\u001b[0m         \u001b[0;32melse\u001b[0m\u001b[0;34m:\u001b[0m\u001b[0;34m\u001b[0m\u001b[0;34m\u001b[0m\u001b[0m\n\u001b[1;32m    584\u001b[0m             result = _VF.lstm(input, batch_sizes, hx, self._flat_weights, self.bias,\n\u001b[0;32m--> 585\u001b[0;31m                               self.num_layers, self.dropout, self.training, self.bidirectional)\n\u001b[0m\u001b[1;32m    586\u001b[0m         \u001b[0moutput\u001b[0m \u001b[0;34m=\u001b[0m \u001b[0mresult\u001b[0m\u001b[0;34m[\u001b[0m\u001b[0;36m0\u001b[0m\u001b[0;34m]\u001b[0m\u001b[0;34m\u001b[0m\u001b[0;34m\u001b[0m\u001b[0m\n\u001b[1;32m    587\u001b[0m         \u001b[0mhidden\u001b[0m \u001b[0;34m=\u001b[0m \u001b[0mresult\u001b[0m\u001b[0;34m[\u001b[0m\u001b[0;36m1\u001b[0m\u001b[0;34m:\u001b[0m\u001b[0;34m]\u001b[0m\u001b[0;34m\u001b[0m\u001b[0;34m\u001b[0m\u001b[0m\n",
            "\u001b[0;31mKeyboardInterrupt\u001b[0m: "
          ]
        }
      ]
    },
    {
      "cell_type": "markdown",
      "metadata": {
        "id": "2MSPOpKR7Gpj"
      },
      "source": [
        "#### CosineAnnealing LR"
      ]
    },
    {
      "cell_type": "code",
      "metadata": {
        "id": "dEKNAUJv7lQj"
      },
      "source": [
        "weightDecay = 5e-6\n",
        "optimizer = torch.optim.Adam(model.parameters(), lr=1e-5, weight_decay = weightDecay)\n",
        "# CosineAnnealingLR\n",
        "scheduler = CosineAnnealingLR(optimizer, len(train_loader), eta_min = 1e-7)"
      ],
      "execution_count": null,
      "outputs": []
    },
    {
      "cell_type": "code",
      "metadata": {
        "id": "E0jiPlyo46a_"
      },
      "source": [
        "start = time.time()\n",
        "min_val_loss = 0.6\n",
        "numEpochs = 5 # TODO: change num of epochs\n",
        "\n",
        "for epoch in range(numEpochs):\n",
        "    for idx, (X, X_lens, Y, Y_lens) in enumerate(train_loader):\n",
        "        model.train()\n",
        "        X, X_lens, Y, Y_lens = X.to(device), X_lens.to(device), Y.to(device), Y_lens.to(device)\n",
        "\n",
        "        optimizer.zero_grad()\n",
        "        out, out_lens = model(X, X_lens.cpu())\n",
        "        loss = criterion(out, Y, out_lens, Y_lens)\n",
        "\n",
        "        del X, X_lens, Y, Y_lens\n",
        "        del out, out_lens\n",
        "        torch.cuda.empty_cache()\n",
        "\n",
        "        loss.backward()\n",
        "        optimizer.step()\n",
        "\n",
        "        if idx % 10 == 9:\n",
        "            print('Epoch: {}/Batch: {}\\t Train Loss: {:.4f}\\ttime: {}sec'.format(epoch + 1, idx + 1,\n",
        "                                                                            loss.item(),\n",
        "                                                                            int(time.time() - start)))\n",
        "            start = time.time()\n",
        "\n",
        "        torch.cuda.empty_cache()\n",
        "        scheduler.step() # TODO: uncomment if scheduler = cosineAnnealing\n",
        "        \n",
        "    val_loss = validate(model, dev_loader, criterion, device, min_val_loss)\n",
        "    print('Epoch: {}\\tTrain Loss: {:.4f}\\tVal Loss: {:.4f}'.format(epoch + 1,loss.item(), val_loss))\n",
        "\n",
        "    # scheduler.step()\n",
        "    print(\"Learning rate: \", scheduler.get_last_lr()[0])\n",
        "\n",
        "    print('Reset scheduler')\n",
        "    scheduler = CosineAnnealingLR(optimizer, len(train_loader))"
      ],
      "execution_count": null,
      "outputs": []
    },
    {
      "cell_type": "markdown",
      "metadata": {
        "id": "ZxbBFsQE6YMk"
      },
      "source": [
        "## Evaluate"
      ]
    },
    {
      "cell_type": "code",
      "metadata": {
        "id": "tFt9PFYfkIKs",
        "colab": {
          "base_uri": "https://localhost:8080/"
        },
        "outputId": "3352c927-5c82-4991-a315-e8f23ce173ab"
      },
      "source": [
        "!pip install python-Levenshtein"
      ],
      "execution_count": null,
      "outputs": [
        {
          "output_type": "stream",
          "text": [
            "Collecting python-Levenshtein\n",
            "\u001b[?25l  Downloading https://files.pythonhosted.org/packages/42/a9/d1785c85ebf9b7dfacd08938dd028209c34a0ea3b1bcdb895208bd40a67d/python-Levenshtein-0.12.0.tar.gz (48kB)\n",
            "\r\u001b[K     |██████▊                         | 10kB 20.0MB/s eta 0:00:01\r\u001b[K     |█████████████▌                  | 20kB 15.8MB/s eta 0:00:01\r\u001b[K     |████████████████████▏           | 30kB 10.0MB/s eta 0:00:01\r\u001b[K     |███████████████████████████     | 40kB 8.4MB/s eta 0:00:01\r\u001b[K     |████████████████████████████████| 51kB 2.8MB/s \n",
            "\u001b[?25hRequirement already satisfied: setuptools in /usr/local/lib/python3.6/dist-packages (from python-Levenshtein) (50.3.2)\n",
            "Building wheels for collected packages: python-Levenshtein\n",
            "  Building wheel for python-Levenshtein (setup.py) ... \u001b[?25l\u001b[?25hdone\n",
            "  Created wheel for python-Levenshtein: filename=python_Levenshtein-0.12.0-cp36-cp36m-linux_x86_64.whl size=144789 sha256=60c84b39fe737183ff8aa1c6ada750ea323d2d8ab6cb10a802f98ef6b3883cf2\n",
            "  Stored in directory: /root/.cache/pip/wheels/de/c2/93/660fd5f7559049268ad2dc6d81c4e39e9e36518766eaf7e342\n",
            "Successfully built python-Levenshtein\n",
            "Installing collected packages: python-Levenshtein\n",
            "Successfully installed python-Levenshtein-0.12.0\n"
          ],
          "name": "stdout"
        }
      ]
    },
    {
      "cell_type": "code",
      "metadata": {
        "id": "3rE70_7c1Tsp"
      },
      "source": [
        "\"\"\"\n",
        "decode\n",
        "\"\"\"\n",
        "from ctcdecode import CTCBeamDecoder\n",
        "import os\n",
        "import pandas as pd\n",
        "\n",
        "from Levenshtein import distance as levenshtein_distance\n",
        "from tqdm import tqdm\n",
        "\n",
        "dev_beam_width = 20\n",
        "submit_beam_width = 100"
      ],
      "execution_count": null,
      "outputs": []
    },
    {
      "cell_type": "code",
      "metadata": {
        "id": "rGakGBL75Y9J",
        "colab": {
          "base_uri": "https://localhost:8080/"
        },
        "outputId": "77ebced4-4e34-49b8-8517-94f417f79e81"
      },
      "source": [
        "# load model\n",
        "model = Model(512)\n",
        "model_file = \"/content/gdrive/My Drive/11685deeplearning/hw3p2/wider_2_baseline_4_0.49\"\n",
        "temp = torch.load(model_file)\n",
        "model.load_state_dict(temp['model_state_dict'])\n",
        "model.to(device)\n"
      ],
      "execution_count": null,
      "outputs": [
        {
          "output_type": "execute_result",
          "data": {
            "text/plain": [
              "Model(\n",
              "  (lstm): LSTM(13, 512, num_layers=5, bidirectional=True)\n",
              "  (output): Sequential(\n",
              "    (0): Linear(in_features=1024, out_features=1024, bias=True)\n",
              "    (1): LeakyReLU(negative_slope=0.01)\n",
              "    (2): Dropout(p=0.1, inplace=False)\n",
              "    (3): Linear(in_features=1024, out_features=42, bias=True)\n",
              "  )\n",
              ")"
            ]
          },
          "metadata": {
            "tags": []
          },
          "execution_count": 32
        }
      ]
    },
    {
      "cell_type": "code",
      "metadata": {
        "id": "o-n5iESged_O",
        "colab": {
          "base_uri": "https://localhost:8080/"
        },
        "outputId": "8075fc70-a820-4d72-ce00-0a966461ccc6"
      },
      "source": [
        "\"\"\"\n",
        "dev distance\n",
        "\"\"\"\n",
        "\n",
        "def validate_distance(model, dev_loader, criterion, device, dev_beam_width = dev_beam_width):\n",
        "    decoder = CTCBeamDecoder(PHONEME_LIST, beam_width=dev_beam_width, \n",
        "                            num_processes=os.cpu_count(), log_probs_input=True)\n",
        "\n",
        "    model.eval()\n",
        "\n",
        "    Y_pred_list = []\n",
        "    Y_lens_pred_list = []\n",
        "    # loop the dev data loader and get beam search result\n",
        "    with torch.no_grad():\n",
        "        for idx, (X, X_lens, Y, Y_lens) in tqdm(enumerate(dev_loader)):\n",
        "            X, X_lens, Y, Y_lens = X.to(device), X_lens.to(device), Y.to(device), Y_lens.to(device)\n",
        "            out, out_lens = model(X, X_lens.cpu())\n",
        "            loss = criterion(out, Y, out_lens, Y_lens)\n",
        "\n",
        "            test_Y, _, _, test_Y_lens = decoder.decode(out.transpose(0, 1), out_lens)\n",
        "            Y_pred_list.extend(test_Y[:,0,:].cpu().numpy())\n",
        "            Y_lens_pred_list.extend(test_Y_lens[:,0].cpu().numpy())\n",
        "\n",
        "    assert(len(Y_pred_list) == len(Y_lens_pred_list) == len(Y_true_list) == len(Y_lens_true_list))\n",
        "\n",
        "    # calculate distance between true label\n",
        "    pred_string_list = [] # string list for submission\n",
        "    distance = [] # distance list for evaluation\n",
        "    for idx, (y_pred, lens_pred) in tqdm(enumerate(zip(Y_pred_list,Y_lens_pred_list))):\n",
        "        best_seq = y_pred[:lens_pred]\n",
        "        pred_string = ''.join(PHONEME_MAP[i] for i in best_seq)\n",
        "        pred_string_list.append(pred_string)\n",
        "\n",
        "        distance.append(levenshtein_distance(pred_string, true_string_list[idx]))\n",
        "\n",
        "    print(\"average distance: \", np.mean(distance))\n",
        "\n",
        "validate_distance(model, dev_loader, criterion, device)\n"
      ],
      "execution_count": null,
      "outputs": [
        {
          "output_type": "stream",
          "text": [
            "\n",
            "0it [00:00, ?it/s]\u001b[A\n",
            "1it [00:02,  2.84s/it]\u001b[A\n",
            "2it [00:04,  2.59s/it]\u001b[A\n",
            "3it [00:08,  2.79s/it]\u001b[A\n",
            "4it [00:10,  2.74s/it]\u001b[A\n",
            "5it [00:13,  2.79s/it]\u001b[A\n",
            "6it [00:16,  2.85s/it]\u001b[A\n",
            "7it [00:18,  2.60s/it]\u001b[A\n",
            "8it [00:21,  2.80s/it]\u001b[A\n",
            "9it [00:24,  2.87s/it]\u001b[A\n",
            "10it [00:26,  2.51s/it]\u001b[A\n",
            "11it [00:29,  2.67s/it]\u001b[A\n",
            "12it [00:31,  2.45s/it]\u001b[A\n",
            "13it [00:34,  2.52s/it]\u001b[A\n",
            "14it [00:37,  2.89s/it]\u001b[A\n",
            "15it [00:41,  2.94s/it]\u001b[A\n",
            "16it [00:43,  2.64s/it]\u001b[A\n",
            "17it [00:46,  2.81s/it]\u001b[A\n",
            "18it [00:49,  3.00s/it]\u001b[A\n",
            "19it [00:52,  2.81s/it]\u001b[A\n",
            "20it [00:54,  2.61s/it]\u001b[A\n",
            "21it [00:58,  3.14s/it]\u001b[A\n",
            "22it [01:01,  2.97s/it]\u001b[A\n",
            "23it [01:03,  2.87s/it]\u001b[A\n",
            "24it [01:05,  2.64s/it]\u001b[A\n",
            "25it [01:07,  2.49s/it]\u001b[A\n",
            "26it [01:10,  2.46s/it]\u001b[A\n",
            "27it [01:12,  2.38s/it]\u001b[A\n",
            "28it [01:14,  2.24s/it]\u001b[A\n",
            "29it [01:17,  2.42s/it]\u001b[A\n",
            "30it [01:19,  2.42s/it]\u001b[A\n",
            "31it [01:22,  2.42s/it]\u001b[A\n",
            "32it [01:24,  2.36s/it]\u001b[A\n",
            "33it [01:27,  2.53s/it]\u001b[A\n",
            "34it [01:29,  2.39s/it]\u001b[A\n",
            "35it [01:31,  2.33s/it]\u001b[A\n",
            "36it [01:34,  2.56s/it]\u001b[A\n",
            "37it [01:36,  2.60s/it]\n",
            "\n",
            "2332it [00:00, 41254.17it/s]"
          ],
          "name": "stderr"
        },
        {
          "output_type": "stream",
          "text": [
            "average distance:  9.440394511149227\n"
          ],
          "name": "stdout"
        },
        {
          "output_type": "stream",
          "text": [
            "\n"
          ],
          "name": "stderr"
        }
      ]
    },
    {
      "cell_type": "markdown",
      "metadata": {
        "id": "NReMzzGJyRX2"
      },
      "source": [
        "## Make submissions"
      ]
    },
    {
      "cell_type": "code",
      "metadata": {
        "id": "uhGE4oCuu6ZM",
        "colab": {
          "base_uri": "https://localhost:8080/"
        },
        "outputId": "3b8b6fb9-a755-4ae5-f4b7-2ed06a5387f3"
      },
      "source": [
        "# test data loader\n",
        "test_labels = np.zeros((test.shape[0], 1))\n",
        "test_dataset = hw3Dataset(test, test_labels)\n",
        "test_loader_args = dict(shuffle = False, batch_size = 128,\n",
        "                        num_workers = num_workers, pin_memory = True)\n",
        "test_loader = DataLoader(test_dataset, **test_loader_args)"
      ],
      "execution_count": null,
      "outputs": [
        {
          "output_type": "stream",
          "text": [
            "# of examples: torch.Size([2251, 3493, 13]) // torch.Size([2251, 1])\n",
            "max: tensor(1) min: tensor(1)\n"
          ],
          "name": "stdout"
        }
      ]
    },
    {
      "cell_type": "code",
      "metadata": {
        "id": "QkkNpcOdvzUQ",
        "colab": {
          "base_uri": "https://localhost:8080/",
          "height": 426
        },
        "outputId": "2f67dfc2-55c6-4774-a93a-dda38cdc2b20"
      },
      "source": [
        "\"\"\"\n",
        "submit\n",
        "\"\"\"\n",
        "\n",
        "\n",
        "def submit_csv(model, test_loader, criterion, device, submit_beam_width = submit_beam_width):\n",
        "    model.eval()\n",
        "    Y_pred_list = []\n",
        "    Y_lens_pred_list = []\n",
        "\n",
        "\n",
        "    from tqdm import tqdm\n",
        "    decoder = CTCBeamDecoder(PHONEME_LIST, beam_width=submit_beam_width, \n",
        "                            num_processes=os.cpu_count(), log_probs_input=True)\n",
        "    # loop the dev data loader and get beam search result\n",
        "    with torch.no_grad():\n",
        "        for idx, (X, X_lens, _, _) in tqdm(enumerate(test_loader)):\n",
        "            X, X_lens = X.to(device), X_lens.to(device)\n",
        "            out, out_lens = model(X, X_lens.cpu())\n",
        "\n",
        "            test_Y, _, _, test_Y_lens = decoder.decode(out.transpose(0, 1), out_lens)\n",
        "            Y_pred_list.extend(test_Y[:,0,:].cpu().numpy())\n",
        "            Y_lens_pred_list.extend(test_Y_lens[:,0].cpu().numpy())\n",
        "\n",
        "    assert(len(Y_pred_list) == len(Y_lens_pred_list))\n",
        "\n",
        "    # calculate distance between true label\n",
        "    pred_string_list = [] # string list for submission\n",
        "    distance = [] # distance list for evaluation\n",
        "    for idx, (y_pred, lens_pred) in tqdm(enumerate(zip(Y_pred_list,Y_lens_pred_list))):\n",
        "        best_seq = y_pred[:lens_pred]\n",
        "        pred_string = ''.join(PHONEME_MAP[i] for i in best_seq)\n",
        "        pred_string_list.append(pred_string)\n",
        "\n",
        "    df = pd.DataFrame(enumerate(pred_string_list), columns = ['id', 'label'])\n",
        "    df.to_csv(\"submission_hw3p2.csv\", index=False)\n",
        "\n",
        "submit_csv(model, test_loader, criterion, device)"
      ],
      "execution_count": null,
      "outputs": [
        {
          "output_type": "stream",
          "text": [
            "\n",
            "0it [00:00, ?it/s]\u001b[A\n",
            "1it [00:27, 27.57s/it]\u001b[A\n",
            "2it [00:56, 28.10s/it]\u001b[A\n",
            "3it [01:14, 24.89s/it]\u001b[A"
          ],
          "name": "stderr"
        },
        {
          "output_type": "error",
          "ename": "KeyboardInterrupt",
          "evalue": "ignored",
          "traceback": [
            "\u001b[0;31m---------------------------------------------------------------------------\u001b[0m",
            "\u001b[0;31mKeyboardInterrupt\u001b[0m                         Traceback (most recent call last)",
            "\u001b[0;32m<ipython-input-35-ad7b57561609>\u001b[0m in \u001b[0;36m<module>\u001b[0;34m()\u001b[0m\n\u001b[1;32m     36\u001b[0m     \u001b[0mdf\u001b[0m\u001b[0;34m.\u001b[0m\u001b[0mto_csv\u001b[0m\u001b[0;34m(\u001b[0m\u001b[0;34m\"submission_hw3p2.csv\"\u001b[0m\u001b[0;34m,\u001b[0m \u001b[0mindex\u001b[0m\u001b[0;34m=\u001b[0m\u001b[0;32mFalse\u001b[0m\u001b[0;34m)\u001b[0m\u001b[0;34m\u001b[0m\u001b[0;34m\u001b[0m\u001b[0m\n\u001b[1;32m     37\u001b[0m \u001b[0;34m\u001b[0m\u001b[0m\n\u001b[0;32m---> 38\u001b[0;31m \u001b[0msubmit_csv\u001b[0m\u001b[0;34m(\u001b[0m\u001b[0mmodel\u001b[0m\u001b[0;34m,\u001b[0m \u001b[0mtest_loader\u001b[0m\u001b[0;34m,\u001b[0m \u001b[0mcriterion\u001b[0m\u001b[0;34m,\u001b[0m \u001b[0mdevice\u001b[0m\u001b[0;34m)\u001b[0m\u001b[0;34m\u001b[0m\u001b[0;34m\u001b[0m\u001b[0m\n\u001b[0m",
            "\u001b[0;32m<ipython-input-35-ad7b57561609>\u001b[0m in \u001b[0;36msubmit_csv\u001b[0;34m(model, test_loader, criterion, device, submit_beam_width)\u001b[0m\n\u001b[1;32m     17\u001b[0m         \u001b[0;32mfor\u001b[0m \u001b[0midx\u001b[0m\u001b[0;34m,\u001b[0m \u001b[0;34m(\u001b[0m\u001b[0mX\u001b[0m\u001b[0;34m,\u001b[0m \u001b[0mX_lens\u001b[0m\u001b[0;34m,\u001b[0m \u001b[0m_\u001b[0m\u001b[0;34m,\u001b[0m \u001b[0m_\u001b[0m\u001b[0;34m)\u001b[0m \u001b[0;32min\u001b[0m \u001b[0mtqdm\u001b[0m\u001b[0;34m(\u001b[0m\u001b[0menumerate\u001b[0m\u001b[0;34m(\u001b[0m\u001b[0mtest_loader\u001b[0m\u001b[0;34m)\u001b[0m\u001b[0;34m)\u001b[0m\u001b[0;34m:\u001b[0m\u001b[0;34m\u001b[0m\u001b[0;34m\u001b[0m\u001b[0m\n\u001b[1;32m     18\u001b[0m             \u001b[0mX\u001b[0m\u001b[0;34m,\u001b[0m \u001b[0mX_lens\u001b[0m \u001b[0;34m=\u001b[0m \u001b[0mX\u001b[0m\u001b[0;34m.\u001b[0m\u001b[0mto\u001b[0m\u001b[0;34m(\u001b[0m\u001b[0mdevice\u001b[0m\u001b[0;34m)\u001b[0m\u001b[0;34m,\u001b[0m \u001b[0mX_lens\u001b[0m\u001b[0;34m.\u001b[0m\u001b[0mto\u001b[0m\u001b[0;34m(\u001b[0m\u001b[0mdevice\u001b[0m\u001b[0;34m)\u001b[0m\u001b[0;34m\u001b[0m\u001b[0;34m\u001b[0m\u001b[0m\n\u001b[0;32m---> 19\u001b[0;31m             \u001b[0mout\u001b[0m\u001b[0;34m,\u001b[0m \u001b[0mout_lens\u001b[0m \u001b[0;34m=\u001b[0m \u001b[0mmodel\u001b[0m\u001b[0;34m(\u001b[0m\u001b[0mX\u001b[0m\u001b[0;34m,\u001b[0m \u001b[0mX_lens\u001b[0m\u001b[0;34m.\u001b[0m\u001b[0mcpu\u001b[0m\u001b[0;34m(\u001b[0m\u001b[0;34m)\u001b[0m\u001b[0;34m)\u001b[0m\u001b[0;34m\u001b[0m\u001b[0;34m\u001b[0m\u001b[0m\n\u001b[0m\u001b[1;32m     20\u001b[0m \u001b[0;34m\u001b[0m\u001b[0m\n\u001b[1;32m     21\u001b[0m             \u001b[0mtest_Y\u001b[0m\u001b[0;34m,\u001b[0m \u001b[0m_\u001b[0m\u001b[0;34m,\u001b[0m \u001b[0m_\u001b[0m\u001b[0;34m,\u001b[0m \u001b[0mtest_Y_lens\u001b[0m \u001b[0;34m=\u001b[0m \u001b[0mdecoder\u001b[0m\u001b[0;34m.\u001b[0m\u001b[0mdecode\u001b[0m\u001b[0;34m(\u001b[0m\u001b[0mout\u001b[0m\u001b[0;34m.\u001b[0m\u001b[0mtranspose\u001b[0m\u001b[0;34m(\u001b[0m\u001b[0;36m0\u001b[0m\u001b[0;34m,\u001b[0m \u001b[0;36m1\u001b[0m\u001b[0;34m)\u001b[0m\u001b[0;34m,\u001b[0m \u001b[0mout_lens\u001b[0m\u001b[0;34m)\u001b[0m\u001b[0;34m\u001b[0m\u001b[0;34m\u001b[0m\u001b[0m\n",
            "\u001b[0;32m/usr/local/lib/python3.6/dist-packages/torch/nn/modules/module.py\u001b[0m in \u001b[0;36m_call_impl\u001b[0;34m(self, *input, **kwargs)\u001b[0m\n\u001b[1;32m    725\u001b[0m             \u001b[0mresult\u001b[0m \u001b[0;34m=\u001b[0m \u001b[0mself\u001b[0m\u001b[0;34m.\u001b[0m\u001b[0m_slow_forward\u001b[0m\u001b[0;34m(\u001b[0m\u001b[0;34m*\u001b[0m\u001b[0minput\u001b[0m\u001b[0;34m,\u001b[0m \u001b[0;34m**\u001b[0m\u001b[0mkwargs\u001b[0m\u001b[0;34m)\u001b[0m\u001b[0;34m\u001b[0m\u001b[0;34m\u001b[0m\u001b[0m\n\u001b[1;32m    726\u001b[0m         \u001b[0;32melse\u001b[0m\u001b[0;34m:\u001b[0m\u001b[0;34m\u001b[0m\u001b[0;34m\u001b[0m\u001b[0m\n\u001b[0;32m--> 727\u001b[0;31m             \u001b[0mresult\u001b[0m \u001b[0;34m=\u001b[0m \u001b[0mself\u001b[0m\u001b[0;34m.\u001b[0m\u001b[0mforward\u001b[0m\u001b[0;34m(\u001b[0m\u001b[0;34m*\u001b[0m\u001b[0minput\u001b[0m\u001b[0;34m,\u001b[0m \u001b[0;34m**\u001b[0m\u001b[0mkwargs\u001b[0m\u001b[0;34m)\u001b[0m\u001b[0;34m\u001b[0m\u001b[0;34m\u001b[0m\u001b[0m\n\u001b[0m\u001b[1;32m    728\u001b[0m         for hook in itertools.chain(\n\u001b[1;32m    729\u001b[0m                 \u001b[0m_global_forward_hooks\u001b[0m\u001b[0;34m.\u001b[0m\u001b[0mvalues\u001b[0m\u001b[0;34m(\u001b[0m\u001b[0;34m)\u001b[0m\u001b[0;34m,\u001b[0m\u001b[0;34m\u001b[0m\u001b[0;34m\u001b[0m\u001b[0m\n",
            "\u001b[0;32m<ipython-input-8-6c068edc15e6>\u001b[0m in \u001b[0;36mforward\u001b[0;34m(self, X, lengths)\u001b[0m\n\u001b[1;32m     15\u001b[0m     \u001b[0;32mdef\u001b[0m \u001b[0mforward\u001b[0m\u001b[0;34m(\u001b[0m\u001b[0mself\u001b[0m\u001b[0;34m,\u001b[0m \u001b[0mX\u001b[0m\u001b[0;34m,\u001b[0m \u001b[0mlengths\u001b[0m\u001b[0;34m)\u001b[0m\u001b[0;34m:\u001b[0m\u001b[0;34m\u001b[0m\u001b[0;34m\u001b[0m\u001b[0m\n\u001b[1;32m     16\u001b[0m         \u001b[0mpacked_X\u001b[0m \u001b[0;34m=\u001b[0m \u001b[0mpack_padded_sequence\u001b[0m\u001b[0;34m(\u001b[0m\u001b[0mX\u001b[0m\u001b[0;34m,\u001b[0m \u001b[0mlengths\u001b[0m\u001b[0;34m,\u001b[0m \u001b[0menforce_sorted\u001b[0m\u001b[0;34m=\u001b[0m\u001b[0;32mFalse\u001b[0m\u001b[0;34m,\u001b[0m \u001b[0mbatch_first\u001b[0m \u001b[0;34m=\u001b[0m \u001b[0;32mTrue\u001b[0m\u001b[0;34m)\u001b[0m\u001b[0;34m\u001b[0m\u001b[0;34m\u001b[0m\u001b[0m\n\u001b[0;32m---> 17\u001b[0;31m         \u001b[0mpacked_out\u001b[0m \u001b[0;34m=\u001b[0m \u001b[0mself\u001b[0m\u001b[0;34m.\u001b[0m\u001b[0mlstm\u001b[0m\u001b[0;34m(\u001b[0m\u001b[0mpacked_X\u001b[0m\u001b[0;34m)\u001b[0m\u001b[0;34m[\u001b[0m\u001b[0;36m0\u001b[0m\u001b[0;34m]\u001b[0m\u001b[0;34m\u001b[0m\u001b[0;34m\u001b[0m\u001b[0m\n\u001b[0m\u001b[1;32m     18\u001b[0m         \u001b[0mout\u001b[0m\u001b[0;34m,\u001b[0m \u001b[0mout_lens\u001b[0m \u001b[0;34m=\u001b[0m \u001b[0mpad_packed_sequence\u001b[0m\u001b[0;34m(\u001b[0m\u001b[0mpacked_out\u001b[0m\u001b[0;34m)\u001b[0m\u001b[0;34m\u001b[0m\u001b[0;34m\u001b[0m\u001b[0m\n\u001b[1;32m     19\u001b[0m         \u001b[0;31m# Log softmax after output layer is required since`nn.CTCLoss` expects log probabilities.\u001b[0m\u001b[0;34m\u001b[0m\u001b[0;34m\u001b[0m\u001b[0;34m\u001b[0m\u001b[0m\n",
            "\u001b[0;32m/usr/local/lib/python3.6/dist-packages/torch/nn/modules/module.py\u001b[0m in \u001b[0;36m_call_impl\u001b[0;34m(self, *input, **kwargs)\u001b[0m\n\u001b[1;32m    725\u001b[0m             \u001b[0mresult\u001b[0m \u001b[0;34m=\u001b[0m \u001b[0mself\u001b[0m\u001b[0;34m.\u001b[0m\u001b[0m_slow_forward\u001b[0m\u001b[0;34m(\u001b[0m\u001b[0;34m*\u001b[0m\u001b[0minput\u001b[0m\u001b[0;34m,\u001b[0m \u001b[0;34m**\u001b[0m\u001b[0mkwargs\u001b[0m\u001b[0;34m)\u001b[0m\u001b[0;34m\u001b[0m\u001b[0;34m\u001b[0m\u001b[0m\n\u001b[1;32m    726\u001b[0m         \u001b[0;32melse\u001b[0m\u001b[0;34m:\u001b[0m\u001b[0;34m\u001b[0m\u001b[0;34m\u001b[0m\u001b[0m\n\u001b[0;32m--> 727\u001b[0;31m             \u001b[0mresult\u001b[0m \u001b[0;34m=\u001b[0m \u001b[0mself\u001b[0m\u001b[0;34m.\u001b[0m\u001b[0mforward\u001b[0m\u001b[0;34m(\u001b[0m\u001b[0;34m*\u001b[0m\u001b[0minput\u001b[0m\u001b[0;34m,\u001b[0m \u001b[0;34m**\u001b[0m\u001b[0mkwargs\u001b[0m\u001b[0;34m)\u001b[0m\u001b[0;34m\u001b[0m\u001b[0;34m\u001b[0m\u001b[0m\n\u001b[0m\u001b[1;32m    728\u001b[0m         for hook in itertools.chain(\n\u001b[1;32m    729\u001b[0m                 \u001b[0m_global_forward_hooks\u001b[0m\u001b[0;34m.\u001b[0m\u001b[0mvalues\u001b[0m\u001b[0;34m(\u001b[0m\u001b[0;34m)\u001b[0m\u001b[0;34m,\u001b[0m\u001b[0;34m\u001b[0m\u001b[0;34m\u001b[0m\u001b[0m\n",
            "\u001b[0;32m/usr/local/lib/python3.6/dist-packages/torch/nn/modules/rnn.py\u001b[0m in \u001b[0;36mforward\u001b[0;34m(self, input, hx)\u001b[0m\n\u001b[1;32m    583\u001b[0m         \u001b[0;32melse\u001b[0m\u001b[0;34m:\u001b[0m\u001b[0;34m\u001b[0m\u001b[0;34m\u001b[0m\u001b[0m\n\u001b[1;32m    584\u001b[0m             result = _VF.lstm(input, batch_sizes, hx, self._flat_weights, self.bias,\n\u001b[0;32m--> 585\u001b[0;31m                               self.num_layers, self.dropout, self.training, self.bidirectional)\n\u001b[0m\u001b[1;32m    586\u001b[0m         \u001b[0moutput\u001b[0m \u001b[0;34m=\u001b[0m \u001b[0mresult\u001b[0m\u001b[0;34m[\u001b[0m\u001b[0;36m0\u001b[0m\u001b[0;34m]\u001b[0m\u001b[0;34m\u001b[0m\u001b[0;34m\u001b[0m\u001b[0m\n\u001b[1;32m    587\u001b[0m         \u001b[0mhidden\u001b[0m \u001b[0;34m=\u001b[0m \u001b[0mresult\u001b[0m\u001b[0;34m[\u001b[0m\u001b[0;36m1\u001b[0m\u001b[0;34m:\u001b[0m\u001b[0;34m]\u001b[0m\u001b[0;34m\u001b[0m\u001b[0;34m\u001b[0m\u001b[0m\n",
            "\u001b[0;31mKeyboardInterrupt\u001b[0m: "
          ]
        }
      ]
    }
  ]
}